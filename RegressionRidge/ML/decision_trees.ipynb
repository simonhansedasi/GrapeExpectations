{
 "cells": [
  {
   "cell_type": "markdown",
   "id": "f0b8da75-b4b5-4010-bcd9-bba89b08cc89",
   "metadata": {},
   "source": [
    "# ML -- Decision Trees\n",
    "### Let's start with getting data ready"
   ]
  },
  {
   "cell_type": "code",
   "execution_count": 1,
   "id": "64cc05d7-4744-4614-a3bd-177027a83e30",
   "metadata": {
    "tags": []
   },
   "outputs": [
    {
     "name": "stdout",
     "output_type": "stream",
     "text": [
      "plot_ndvi.pkl\n",
      "weather_25_clipped.pkl\n",
      "df_savi.pkl\n",
      "plot_elev_features.pkl\n",
      "df_ndwi.pkl\n",
      "df_ndvi_rendvi.pkl\n",
      "df_evi.pkl\n",
      "ndvi_raw_2025.pkl\n",
      "DEM\n",
      "plot_features.pkl\n",
      "df_mcari2.pkl\n",
      "ndvi_2025.pkl\n",
      "df_2025.pkl\n",
      "PRISM\n",
      "df.pkl\n",
      "plot_ndvi_filtered.pkl\n",
      "plot_ndvi_filtered_2025.pkl\n",
      "polygons\n",
      "ndvi\n",
      "plot_ndvi_2025.pkl\n"
     ]
    }
   ],
   "source": [
    "import pandas as pd\n",
    "import numpy as np\n",
    "import matplotlib.pyplot as plt\n",
    "import os\n",
    "\n",
    "data_dir = '../data'\n",
    "for file in os.listdir(data_dir):\n",
    "    if os.path.isdir(file):\n",
    "        continue\n",
    "    print(file)"
   ]
  },
  {
   "cell_type": "markdown",
   "id": "934e917c-f0ad-411a-bc64-929271aff0d1",
   "metadata": {},
   "source": [
    "### For this notebook, let's pick NDVI / RENDVI. They are coupled together by a quirk in data assembly, but will make good test cases."
   ]
  },
  {
   "cell_type": "code",
   "execution_count": 2,
   "id": "7e687f28-c41a-4b15-aea1-1eb24ab57730",
   "metadata": {
    "tags": []
   },
   "outputs": [],
   "source": [
    "df_path = os.path.join(data_dir, 'df_ndvi_rendvi.pkl')\n",
    "df = pd.read_pickle(df_path)"
   ]
  },
  {
   "cell_type": "markdown",
   "id": "beb3e290-115f-4df8-bf2d-6d6c7abfb5ca",
   "metadata": {},
   "source": [
    "### Now identify leakage columns. That's anything after week 35, and other various data that might be captured."
   ]
  },
  {
   "cell_type": "code",
   "execution_count": 3,
   "id": "96c75ede-4967-49ae-8e47-9368e25b9ee1",
   "metadata": {
    "tags": []
   },
   "outputs": [],
   "source": [
    "# --- Identify leakage columns ---\n",
    "leakage_cols = [col for col in df.columns if any(\n",
    "    col.endswith(f\"_{m}\") for m in range(36,45)\n",
    ")]\n",
    "leakage_cols.extend([col for col in df.columns if col.endswith('length')])\n",
    "leakage_cols.extend([col for col in df.columns if 'mcari2' in col])"
   ]
  },
  {
   "cell_type": "markdown",
   "id": "0c7aedbd-8bd5-4124-a521-279a7624fc7c",
   "metadata": {},
   "source": [
    "### identify targets we're estimating, and features"
   ]
  },
  {
   "cell_type": "code",
   "execution_count": 4,
   "id": "389c7fe7-15f9-45ac-940c-437c897b432f",
   "metadata": {
    "tags": []
   },
   "outputs": [],
   "source": [
    "# --- Define target and features ---\n",
    "target_cols = [\n",
    "    'ndvi_smooth_mean_36',\n",
    "    'ndvi_smooth_mean_37',\n",
    "    'ndvi_smooth_mean_38',\n",
    "    'ndvi_smooth_mean_39',\n",
    "    'ndvi_smooth_mean_40',\n",
    "    'ndvi_smooth_mean_41',\n",
    "    'ndvi_smooth_mean_42',\n",
    "    'ndvi_smooth_mean_43',\n",
    "    'ndvi_smooth_mean_44',\n",
    "    \n",
    "    'rendvi_smooth_mean_36',\n",
    "    'rendvi_smooth_mean_37',\n",
    "    'rendvi_smooth_mean_38',\n",
    "    'rendvi_smooth_mean_39',\n",
    "    'rendvi_smooth_mean_40',\n",
    "    'rendvi_smooth_mean_41',\n",
    "    'rendvi_smooth_mean_42',\n",
    "    'rendvi_smooth_mean_43',\n",
    "    'rendvi_smooth_mean_44',\n",
    "]\n",
    "X = df.drop(columns=leakage_cols + ['plot_id', 'year'] + target_cols)\n",
    "y = df[target_cols]"
   ]
  },
  {
   "cell_type": "markdown",
   "id": "75d930a5-7d7d-45a3-8269-c1f75b990024",
   "metadata": {},
   "source": [
    "### Split the data"
   ]
  },
  {
   "cell_type": "code",
   "execution_count": 5,
   "id": "740fbf82-f6be-4131-9ead-7befcb4c4fce",
   "metadata": {
    "tags": []
   },
   "outputs": [
    {
     "name": "stdout",
     "output_type": "stream",
     "text": [
      "(351, 175)\n",
      "(117, 175)\n",
      "(117, 175)\n",
      "(351, 18)\n",
      "(117, 18)\n",
      "(117, 18)\n"
     ]
    }
   ],
   "source": [
    "from sklearn.model_selection import train_test_split\n",
    "\n",
    "X_test, X_hold, y_test, y_hold = train_test_split(\n",
    "    X, y, test_size = 0.8, random_state = 42\n",
    ")\n",
    "\n",
    "X_train, X_tune, y_train, y_tune = train_test_split(\n",
    "    X_hold, y_hold, test_size = 0.25, random_state = 42\n",
    ")\n",
    "\n",
    "print(X_train.shape)\n",
    "print(X_tune.shape)\n",
    "print(X_test.shape)\n",
    "\n",
    "print(y_train.shape)\n",
    "print(y_tune.shape)\n",
    "print(y_test.shape)"
   ]
  },
  {
   "cell_type": "markdown",
   "id": "5a86a06b-cffa-449a-a983-93940260023f",
   "metadata": {},
   "source": [
    "### Train a single decision tree.\n",
    "### It turns out sklearn now automajickally applies multi-output regression."
   ]
  },
  {
   "cell_type": "code",
   "execution_count": 6,
   "id": "a3a7dc04-fd18-499b-8310-a305a256ce35",
   "metadata": {
    "tags": []
   },
   "outputs": [
    {
     "data": {
      "text/plain": [
       "['models/decision_tree.pkl']"
      ]
     },
     "execution_count": 6,
     "metadata": {},
     "output_type": "execute_result"
    }
   ],
   "source": [
    "from sklearn.tree import DecisionTreeRegressor\n",
    "tree = DecisionTreeRegressor(random_state=84726)\n",
    "tree.fit(X_train, y_train)\n",
    "\n",
    "import joblib\n",
    "\n",
    "# Save the model\n",
    "joblib.dump(tree, 'models/decision_tree.pkl')\n",
    "# tree_loaded = joblib.load('decision_tree.pkl')"
   ]
  },
  {
   "cell_type": "code",
   "execution_count": 7,
   "id": "d6201795-837c-4f01-b4af-549ca4ca077e",
   "metadata": {
    "tags": []
   },
   "outputs": [
    {
     "data": {
      "text/plain": [
       "(117, 18)"
      ]
     },
     "execution_count": 7,
     "metadata": {},
     "output_type": "execute_result"
    }
   ],
   "source": [
    "y_pred = tree.predict(X_tune)\n",
    "y_pred.shape"
   ]
  },
  {
   "cell_type": "code",
   "execution_count": 8,
   "id": "0e52a90c-508a-4ece-b1cd-d267342a5903",
   "metadata": {
    "tags": []
   },
   "outputs": [
    {
     "name": "stdout",
     "output_type": "stream",
     "text": [
      "Decision Tree R2: 0.7291268321248822\n",
      "Decision Tree RMSE: 0.001668009221535867\n"
     ]
    }
   ],
   "source": [
    "from sklearn.metrics import mean_squared_error, r2_score\n",
    "\n",
    "\n",
    "print(\"Decision Tree R2:\", r2_score(y_tune, y_pred))\n",
    "print(\"Decision Tree RMSE:\", mean_squared_error(y_tune, y_pred))"
   ]
  },
  {
   "cell_type": "markdown",
   "id": "a727ed3e-2a01-4e60-84fe-28924f4b424f",
   "metadata": {},
   "source": [
    "### Let's see a random forest do better"
   ]
  },
  {
   "cell_type": "code",
   "execution_count": 9,
   "id": "b6ae2312-99a9-4720-9d2f-96ecf547835a",
   "metadata": {
    "tags": []
   },
   "outputs": [
    {
     "name": "stdout",
     "output_type": "stream",
     "text": [
      "Random Forest R2: 0.8799212195806292\n",
      "Random Forest RMSE: 0.0007499239335900776\n"
     ]
    }
   ],
   "source": [
    "\n",
    "from sklearn.ensemble import RandomForestRegressor\n",
    "\n",
    "# Initialize a Random Forest\n",
    "rf = RandomForestRegressor(n_estimators=100, random_state=93628)\n",
    "rf.fit(X_train, y_train)\n",
    "joblib.dump(rf, 'models/random_forest.pkl')\n",
    "\n",
    "y_pred = rf.predict(X_tune)\n",
    "print(\"Random Forest R2:\", r2_score(y_tune, y_pred))\n",
    "print(\"Random Forest RMSE:\", mean_squared_error(y_tune, y_pred))\n"
   ]
  },
  {
   "cell_type": "code",
   "execution_count": 10,
   "id": "b9f8a2d5-e71a-492c-a9e9-06fef51092e8",
   "metadata": {
    "tags": []
   },
   "outputs": [
    {
     "data": {
      "text/plain": [
       "(117, 18)"
      ]
     },
     "execution_count": 10,
     "metadata": {},
     "output_type": "execute_result"
    }
   ],
   "source": [
    "y_pred.shape"
   ]
  }
 ],
 "metadata": {
  "kernelspec": {
   "display_name": "Python GrapeExpectationsML",
   "language": "python",
   "name": "grapeexpectationsml"
  },
  "language_info": {
   "codemirror_mode": {
    "name": "ipython",
    "version": 3
   },
   "file_extension": ".py",
   "mimetype": "text/x-python",
   "name": "python",
   "nbconvert_exporter": "python",
   "pygments_lexer": "ipython3",
   "version": "3.12.11"
  }
 },
 "nbformat": 4,
 "nbformat_minor": 5
}
