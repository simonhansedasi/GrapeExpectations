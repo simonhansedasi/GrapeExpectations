{
 "cells": [
  {
   "cell_type": "code",
   "execution_count": 1,
   "id": "74643d77-5b5d-4952-b9db-dd6a0a42bd00",
   "metadata": {
    "tags": []
   },
   "outputs": [],
   "source": [
    "import os\n",
    "import zipfile\n",
    "import glob\n",
    "from tqdm import tqdm\n",
    "import geopandas as gpd\n",
    "import rasterio\n",
    "from rasterio.mask import mask\n",
    "import numpy as np\n",
    "import pandas as pd\n",
    "import shutil\n",
    "vineyard = gpd.read_file('data/polygons/RegressionRidge.geojson')\n"
   ]
  },
  {
   "cell_type": "code",
   "execution_count": 2,
   "id": "9c472653-687a-431a-9771-6bc57777d86a",
   "metadata": {
    "tags": []
   },
   "outputs": [],
   "source": [
    "base_dir = 'data/PRISM'\n",
    "\n",
    "weather_features = ['ppt','tmax','tmean','tmin','vpdmax','vpdmin']\n",
    "weather_folders = [\n",
    "    os.path.join(base_dir, f) for f in weather_features\n",
    "]\n",
    "\n",
    "years = range(2016, 2025, 1)\n",
    "\n",
    "weather_folders_years = []\n",
    "for folder in weather_folders:\n",
    "    feature_years = [\n",
    "        os.path.join(folder, str(year)) for year in years\n",
    "    ]\n",
    "    weather_folders_years.append(feature_years)\n",
    "\n",
    "# wfy = weather feature years\n",
    "# collapse weather_features_years into single list of data folders\n",
    "weather_folders_years = [item for sublist in weather_folders_years for item in sublist]"
   ]
  },
  {
   "cell_type": "code",
   "execution_count": 4,
   "id": "bdfc1f03-a3a6-4a2e-844c-9f14ee69d227",
   "metadata": {
    "tags": []
   },
   "outputs": [],
   "source": [
    "def unzip_file(zip_file_path, out_dir):\n",
    "    with zipfile.ZipFile(zip_file_path, 'r') as z:\n",
    "        # pick a representative file (e.g. the first in the archive)\n",
    "        first_member = z.namelist()[0]\n",
    "        out_path = os.path.join(out_dir, first_member)\n",
    "\n",
    "        if not os.path.exists(out_path):\n",
    "            z.extractall(out_dir)\n",
    "            \n",
    "        # get a list of files to delete later\n",
    "        extracted_files = [os.path.join(out_dir, f) for f in z.namelist()]\n",
    "\n",
    "    return extracted_files\n",
    "\n",
    "\n",
    "def clip_raster(file_path, weather_value, polygon = vineyard):\n",
    "    \n",
    "    with rasterio.open(f) as src:\n",
    "        for idx, row in vineyard.iterrows():\n",
    "            geom = [row.geometry.__geo_interface__]\n",
    "\n",
    "            # clip raster to polygon\n",
    "            out_image, out_transform = mask(src, geom, crop=True)\n",
    "            data = out_image[0]\n",
    "\n",
    "            # ignore no-data values\n",
    "            nodata = src.nodata if src.nodata is not None else -9999\n",
    "            vals = data[data != nodata]\n",
    "\n",
    "            if len(vals) > 0:\n",
    "                n_val = len(vals)\n",
    "                value = float(vals)\n",
    "                value_mean = float(np.mean(vals))\n",
    "            else:\n",
    "                mean_val, min_val = np.nan, np.nan\n",
    "            \n",
    "            return {\n",
    "                'date':date, \n",
    "                'n':n_val,\n",
    "                f'{weather_value}':value,\n",
    "                # f'{weather_value}_mean':value_mean,\n",
    "                # f'{weather_value}_std':value_std\n",
    "            }\n",
    "\n",
    "        \n",
    "def delete_extracted_files(file_list):\n",
    "    \"\"\"\n",
    "    Delete a list of files.\n",
    "    \n",
    "    Args:\n",
    "        file_list (list of str): paths to files to delete\n",
    "    \"\"\"\n",
    "    for f in file_list:\n",
    "        if os.path.exists(f):\n",
    "            os.remove(f)"
   ]
  },
  {
   "cell_type": "code",
   "execution_count": 5,
   "id": "577a092b-835a-44dd-9b80-379143cb45f3",
   "metadata": {},
   "outputs": [
    {
     "name": "stdout",
     "output_type": "stream",
     "text": [
      "ppt\n"
     ]
    },
    {
     "name": "stderr",
     "output_type": "stream",
     "text": [
      "9it [01:25,  9.52s/it]\n"
     ]
    },
    {
     "name": "stdout",
     "output_type": "stream",
     "text": [
      "tmax\n"
     ]
    },
    {
     "name": "stderr",
     "output_type": "stream",
     "text": [
      "9it [01:35, 10.65s/it]\n"
     ]
    },
    {
     "name": "stdout",
     "output_type": "stream",
     "text": [
      "tmean\n"
     ]
    },
    {
     "name": "stderr",
     "output_type": "stream",
     "text": [
      "9it [01:18,  8.77s/it]\n"
     ]
    },
    {
     "name": "stdout",
     "output_type": "stream",
     "text": [
      "tmin\n"
     ]
    },
    {
     "name": "stderr",
     "output_type": "stream",
     "text": [
      "9it [01:35, 10.60s/it]\n"
     ]
    },
    {
     "name": "stdout",
     "output_type": "stream",
     "text": [
      "vpdmax\n"
     ]
    },
    {
     "name": "stderr",
     "output_type": "stream",
     "text": [
      "9it [01:27,  9.70s/it]\n"
     ]
    },
    {
     "name": "stdout",
     "output_type": "stream",
     "text": [
      "vpdmin\n"
     ]
    },
    {
     "name": "stderr",
     "output_type": "stream",
     "text": [
      "9it [01:25,  9.46s/it]\n"
     ]
    }
   ],
   "source": [
    "results = []\n",
    "for feature in weather_features:\n",
    "    print(feature)\n",
    "    wfy = [w for w in weather_folders_years if feature in w]\n",
    "    wfye = [os.path.join(fy, 'extracted') for fy in wfy]\n",
    "    for zip_dir, out_dir in tqdm(zip(wfy, wfye)):\n",
    "        # print(zip_dir)\n",
    "        # make an output folder\n",
    "        if not os.path.exists(out_dir):\n",
    "            os.makedirs(out_dir)\n",
    "\n",
    "        # iterate through zipfiles\n",
    "        for zf in (glob.glob(os.path.join(zip_dir, '*.zip'))):\n",
    "            # skip provisional files -- it makes crash\n",
    "            if 'provisional' in zf:\n",
    "                continue\n",
    "\n",
    "            # extract files and return variable to delete them later\n",
    "            extracted_files = unzip_file(zf, out_dir)\n",
    "\n",
    "            # find the bil files to clip\n",
    "            bil_files = [f for f in glob.glob(os.path.join(out_dir, \"*.bil\"))]\n",
    "\n",
    "            # run through daily bil files and clip to vineyard polygon\n",
    "            for f in bil_files:\n",
    "                date_str = os.path.basename(f).split(\"_\")[4]  # e.g. 20240101\n",
    "                date = pd.to_datetime(date_str)\n",
    "                res = clip_raster(f, weather_value = feature, polygon = vineyard)\n",
    "                results.append(res)\n",
    "\n",
    "            # remove extracted files to prevent data balloon\n",
    "            delete_extracted_files(extracted_files)\n"
   ]
  },
  {
   "cell_type": "code",
   "execution_count": 6,
   "id": "66bd21d4-3953-4bc4-890b-91c1a687439f",
   "metadata": {},
   "outputs": [
    {
     "data": {
      "text/html": [
       "<div>\n",
       "<style scoped>\n",
       "    .dataframe tbody tr th:only-of-type {\n",
       "        vertical-align: middle;\n",
       "    }\n",
       "\n",
       "    .dataframe tbody tr th {\n",
       "        vertical-align: top;\n",
       "    }\n",
       "\n",
       "    .dataframe thead th {\n",
       "        text-align: right;\n",
       "    }\n",
       "</style>\n",
       "<table border=\"1\" class=\"dataframe\">\n",
       "  <thead>\n",
       "    <tr style=\"text-align: right;\">\n",
       "      <th></th>\n",
       "      <th>date</th>\n",
       "      <th>n</th>\n",
       "      <th>ppt</th>\n",
       "      <th>tmax</th>\n",
       "      <th>tmean</th>\n",
       "      <th>tmin</th>\n",
       "      <th>vpdmax</th>\n",
       "      <th>vpdmin</th>\n",
       "    </tr>\n",
       "  </thead>\n",
       "  <tbody>\n",
       "    <tr>\n",
       "      <th>0</th>\n",
       "      <td>2016-04-16</td>\n",
       "      <td>1</td>\n",
       "      <td>0.00</td>\n",
       "      <td>NaN</td>\n",
       "      <td>NaN</td>\n",
       "      <td>NaN</td>\n",
       "      <td>NaN</td>\n",
       "      <td>NaN</td>\n",
       "    </tr>\n",
       "    <tr>\n",
       "      <th>1</th>\n",
       "      <td>2016-01-02</td>\n",
       "      <td>1</td>\n",
       "      <td>0.00</td>\n",
       "      <td>NaN</td>\n",
       "      <td>NaN</td>\n",
       "      <td>NaN</td>\n",
       "      <td>NaN</td>\n",
       "      <td>NaN</td>\n",
       "    </tr>\n",
       "    <tr>\n",
       "      <th>2</th>\n",
       "      <td>2016-11-30</td>\n",
       "      <td>1</td>\n",
       "      <td>0.00</td>\n",
       "      <td>NaN</td>\n",
       "      <td>NaN</td>\n",
       "      <td>NaN</td>\n",
       "      <td>NaN</td>\n",
       "      <td>NaN</td>\n",
       "    </tr>\n",
       "    <tr>\n",
       "      <th>3</th>\n",
       "      <td>2016-12-01</td>\n",
       "      <td>1</td>\n",
       "      <td>0.07</td>\n",
       "      <td>NaN</td>\n",
       "      <td>NaN</td>\n",
       "      <td>NaN</td>\n",
       "      <td>NaN</td>\n",
       "      <td>NaN</td>\n",
       "    </tr>\n",
       "    <tr>\n",
       "      <th>4</th>\n",
       "      <td>2016-06-08</td>\n",
       "      <td>1</td>\n",
       "      <td>0.00</td>\n",
       "      <td>NaN</td>\n",
       "      <td>NaN</td>\n",
       "      <td>NaN</td>\n",
       "      <td>NaN</td>\n",
       "      <td>NaN</td>\n",
       "    </tr>\n",
       "    <tr>\n",
       "      <th>...</th>\n",
       "      <td>...</td>\n",
       "      <td>...</td>\n",
       "      <td>...</td>\n",
       "      <td>...</td>\n",
       "      <td>...</td>\n",
       "      <td>...</td>\n",
       "      <td>...</td>\n",
       "      <td>...</td>\n",
       "    </tr>\n",
       "    <tr>\n",
       "      <th>19723</th>\n",
       "      <td>2024-01-11</td>\n",
       "      <td>1</td>\n",
       "      <td>NaN</td>\n",
       "      <td>NaN</td>\n",
       "      <td>NaN</td>\n",
       "      <td>NaN</td>\n",
       "      <td>NaN</td>\n",
       "      <td>0.3613</td>\n",
       "    </tr>\n",
       "    <tr>\n",
       "      <th>19724</th>\n",
       "      <td>2024-10-19</td>\n",
       "      <td>1</td>\n",
       "      <td>NaN</td>\n",
       "      <td>NaN</td>\n",
       "      <td>NaN</td>\n",
       "      <td>NaN</td>\n",
       "      <td>NaN</td>\n",
       "      <td>0.2942</td>\n",
       "    </tr>\n",
       "    <tr>\n",
       "      <th>19725</th>\n",
       "      <td>2024-02-28</td>\n",
       "      <td>1</td>\n",
       "      <td>NaN</td>\n",
       "      <td>NaN</td>\n",
       "      <td>NaN</td>\n",
       "      <td>NaN</td>\n",
       "      <td>NaN</td>\n",
       "      <td>0.4319</td>\n",
       "    </tr>\n",
       "    <tr>\n",
       "      <th>19726</th>\n",
       "      <td>2024-05-23</td>\n",
       "      <td>1</td>\n",
       "      <td>NaN</td>\n",
       "      <td>NaN</td>\n",
       "      <td>NaN</td>\n",
       "      <td>NaN</td>\n",
       "      <td>NaN</td>\n",
       "      <td>0.4454</td>\n",
       "    </tr>\n",
       "    <tr>\n",
       "      <th>19727</th>\n",
       "      <td>2024-02-19</td>\n",
       "      <td>1</td>\n",
       "      <td>NaN</td>\n",
       "      <td>NaN</td>\n",
       "      <td>NaN</td>\n",
       "      <td>NaN</td>\n",
       "      <td>NaN</td>\n",
       "      <td>0.0206</td>\n",
       "    </tr>\n",
       "  </tbody>\n",
       "</table>\n",
       "<p>19728 rows × 8 columns</p>\n",
       "</div>"
      ],
      "text/plain": [
       "            date  n   ppt  tmax  tmean  tmin  vpdmax  vpdmin\n",
       "0     2016-04-16  1  0.00   NaN    NaN   NaN     NaN     NaN\n",
       "1     2016-01-02  1  0.00   NaN    NaN   NaN     NaN     NaN\n",
       "2     2016-11-30  1  0.00   NaN    NaN   NaN     NaN     NaN\n",
       "3     2016-12-01  1  0.07   NaN    NaN   NaN     NaN     NaN\n",
       "4     2016-06-08  1  0.00   NaN    NaN   NaN     NaN     NaN\n",
       "...          ... ..   ...   ...    ...   ...     ...     ...\n",
       "19723 2024-01-11  1   NaN   NaN    NaN   NaN     NaN  0.3613\n",
       "19724 2024-10-19  1   NaN   NaN    NaN   NaN     NaN  0.2942\n",
       "19725 2024-02-28  1   NaN   NaN    NaN   NaN     NaN  0.4319\n",
       "19726 2024-05-23  1   NaN   NaN    NaN   NaN     NaN  0.4454\n",
       "19727 2024-02-19  1   NaN   NaN    NaN   NaN     NaN  0.0206\n",
       "\n",
       "[19728 rows x 8 columns]"
      ]
     },
     "execution_count": 6,
     "metadata": {},
     "output_type": "execute_result"
    }
   ],
   "source": [
    "df = pd.DataFrame(results)\n",
    "df"
   ]
  },
  {
   "cell_type": "code",
   "execution_count": 8,
   "id": "3af1a551-be1a-4372-a401-0311d5d89d2c",
   "metadata": {
    "tags": []
   },
   "outputs": [],
   "source": [
    "df.to_pickle('data/PRISM/df.pkl')"
   ]
  },
  {
   "cell_type": "code",
   "execution_count": null,
   "id": "09ca2024-d7a4-415e-8f28-02d7bd588dba",
   "metadata": {},
   "outputs": [],
   "source": []
  }
 ],
 "metadata": {
  "kernelspec": {
   "display_name": "Python 3",
   "language": "python",
   "name": "python3"
  },
  "language_info": {
   "codemirror_mode": {
    "name": "ipython",
    "version": 3
   },
   "file_extension": ".py",
   "mimetype": "text/x-python",
   "name": "python",
   "nbconvert_exporter": "python",
   "pygments_lexer": "ipython3",
   "version": "3.7.6"
  }
 },
 "nbformat": 4,
 "nbformat_minor": 5
}
