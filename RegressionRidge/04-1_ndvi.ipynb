{
 "cells": [
  {
   "cell_type": "code",
   "execution_count": 1,
   "id": "7b4f59cb-a5b0-468a-841b-aba8a4ddcc4e",
   "metadata": {
    "tags": []
   },
   "outputs": [],
   "source": [
    "# # For Sentinel-2\n",
    "# # !pip install sentinelsat\n",
    "# import sys\n",
    "# !{sys.executable} -m pip install sentinelsat"
   ]
  },
  {
   "cell_type": "code",
   "execution_count": 2,
   "id": "90e5401d-025f-4835-aa0c-b7494d4af06d",
   "metadata": {
    "tags": []
   },
   "outputs": [],
   "source": [
    "import ee\n",
    "import geemap\n",
    "import geopandas as gpd\n",
    "from tqdm import tqdm\n",
    "import pandas as pd\n",
    "import os\n",
    "import matplotlib.pyplot as plt\n",
    "import numpy as np"
   ]
  },
  {
   "cell_type": "code",
   "execution_count": 3,
   "id": "a5f18d59-0ab2-46d8-ae9a-5bf6c2ac51d9",
   "metadata": {
    "tags": []
   },
   "outputs": [],
   "source": [
    "# Function to compute NDVI\n",
    "def add_ndvi(image):\n",
    "    ndvi = image.normalizedDifference(['B8','B4']).rename('NDVI')\n",
    "    return image.addBands(ndvi)\n",
    "\n",
    "\n",
    "# Reduce over vineyard\n",
    "def reduce_region(image, geom, plot_id):\n",
    "    mean_ndvi = image.select('NDVI').reduceRegion(\n",
    "        reducer=ee.Reducer.mean(),\n",
    "        geometry=geom,\n",
    "        scale=10\n",
    "    )\n",
    "    return ee.Feature(None, {\n",
    "        'date': image.date().format(),\n",
    "        'plot_id': plot_id,\n",
    "        'mean_ndvi': mean_ndvi.get('NDVI')\n",
    "    })\n"
   ]
  },
  {
   "cell_type": "code",
   "execution_count": 4,
   "id": "c0ee2f25-15c6-4bb9-b659-a1b7b8780573",
   "metadata": {
    "tags": []
   },
   "outputs": [
    {
     "name": "stderr",
     "output_type": "stream",
     "text": [
      "*** Earth Engine *** Share your feedback by taking our Annual Developer Satisfaction Survey: https://google.qualtrics.com/jfe/form/SV_7TDKVSyKvBdmMqW?ref=4i2o6\n"
     ]
    }
   ],
   "source": [
    "ee.Initialize()\n",
    "\n",
    "# Load your vineyard polygon (GeoJSON)\n",
    "vineyard = gpd.read_file(\"data/polygons/RegressionRidge.geojson\")\n",
    "# geom = ee.Geometry.Polygon(list(vineyard.geometry[0].exterior.coords))\n",
    "# Assuming vineyard has 65 polygons\n",
    "geoms = [ee.Geometry.Polygon(list(p.exterior.coords)) for p in vineyard.geometry]\n"
   ]
  },
  {
   "cell_type": "code",
   "execution_count": null,
   "id": "5618c89c-f825-4e9d-af9d-74193f229f3c",
   "metadata": {},
   "outputs": [],
   "source": []
  },
  {
   "cell_type": "code",
   "execution_count": 5,
   "id": "e3818754-6db3-4ada-9e59-b6d276f01e90",
   "metadata": {
    "tags": []
   },
   "outputs": [],
   "source": [
    "years = [str(year) for year in range(2016, 2025, 1)]\n",
    "months = ['01', '12']\n",
    "days = ['01', '31']\n",
    "start_dates = [year + '-' + months[0] + '-' + days[0] for year in years]\n",
    "end_dates = [year + '-' + months[1] + '-' + days[1] for year in years]"
   ]
  },
  {
   "cell_type": "code",
   "execution_count": 6,
   "id": "6c721db1-5bd8-4f26-8e58-fb8f5022cd57",
   "metadata": {
    "tags": []
   },
   "outputs": [
    {
     "name": "stderr",
     "output_type": "stream",
     "text": [
      "100%|██████████| 9/9 [00:00<00:00, 14850.01it/s]\n"
     ]
    }
   ],
   "source": [
    "for start_date, end_date in tqdm(zip(start_dates, end_dates), total=len(start_dates)):\n",
    "    fname = f\"data/ndvi/ndvi_{start_date}_to_{end_date}.pkl\"\n",
    "    if os.path.isfile(fname):\n",
    "        continue\n",
    "\n",
    "    collection = (ee.ImageCollection('COPERNICUS/S2_SR')\n",
    "                  .filterBounds(geoms[0])  # bounds of all plots could be unioned\n",
    "                  .filterDate(start_date, end_date)\n",
    "                  .filter(ee.Filter.lt('CLOUDY_PIXEL_PERCENTAGE', 40))\n",
    "                  .select(['B4','B8']))\n",
    "    \n",
    "    collection = collection.map(add_ndvi)\n",
    "    \n",
    "    features = []\n",
    "    for i, geom in enumerate(geoms):\n",
    "        ndvi_ts = collection.map(lambda img: reduce_region(img, geom, i))\n",
    "        features.extend(ndvi_ts.getInfo()['features'])\n",
    "\n",
    "    # Convert to DataFrame\n",
    "    df = pd.DataFrame({\n",
    "        'date': [f['properties']['date'] for f in features],\n",
    "        'plot_id': [f['properties']['plot_id'] for f in features],\n",
    "        'ndvi': [f['properties']['mean_ndvi'] for f in features]\n",
    "    })\n",
    "    \n",
    "    os.makedirs(\"data/ndvi\", exist_ok=True)\n",
    "    df.to_pickle(fname)\n"
   ]
  },
  {
   "cell_type": "code",
   "execution_count": 7,
   "id": "940c44c5-cadb-4216-a838-3c6b88301117",
   "metadata": {
    "tags": []
   },
   "outputs": [
    {
     "name": "stderr",
     "output_type": "stream",
     "text": [
      "100%|██████████| 14/14 [00:00<00:00, 558.95it/s]\n"
     ]
    }
   ],
   "source": [
    "df_list = []\n",
    "empties = []\n",
    "for file in tqdm(os.listdir('data/ndvi')):\n",
    "    if file == '.ipynb_checkpoints':\n",
    "        continue\n",
    "    if file == 'plots':\n",
    "        continue\n",
    "    if file == 'ndvi_df.pkl':\n",
    "        continue\n",
    "    df = pd.read_pickle(os.path.join('data/ndvi', file))\n",
    "    if df.empty:\n",
    "        # print('empty')\n",
    "        empties.append(file)\n",
    "        \n",
    "        continue\n",
    "        \n",
    "    # df = df[(df['date'].dt.dayofyear >= 90) & (df['date'].dt.dayofyear <= 300)]\n",
    "    df['ndvi_smooth'] = df['ndvi'].rolling(window=14, center=True, min_periods=1).mean()\n",
    "\n",
    "    df_list.append(df)"
   ]
  },
  {
   "cell_type": "code",
   "execution_count": 8,
   "id": "36513f88-1078-41af-a6f7-43b6e870fd0b",
   "metadata": {
    "tags": []
   },
   "outputs": [],
   "source": [
    "# df['year'] = pd.to_datetime(df['date']).dt.year\n",
    "\n",
    "# stats = []\n",
    "# for key, group in df.groupby('plot_id'):\n",
    "#     # print(key, group)\n",
    "#     for yr, data in group.groupby('year'):\n",
    "#         # print(data)\n",
    "#         variance = np.var(data['ndvi'])\n",
    "#         mean = np.mean(data['ndvi'])\n",
    "#         n = len(data['ndvi'])\n",
    "#         stats.append({\n",
    "#             'year':yr,\n",
    "#             'plot':key,\n",
    "#             'mean':mean,\n",
    "#             'variance':variance,\n",
    "#             'n':n\n",
    "#         })\n",
    "# ndvi_stats = pd.DataFrame(stats)"
   ]
  },
  {
   "cell_type": "code",
   "execution_count": 9,
   "id": "e60c0835-9e81-45cf-9f84-a3f1c6e1bcbf",
   "metadata": {
    "tags": []
   },
   "outputs": [],
   "source": [
    "\n",
    "# Keep only growing season (optional)\n",
    "start_doy, end_doy = 90, 300  # e.g., DOY 90-300\n",
    "\n",
    "aligned_dfs = []\n",
    "for df in df_list:\n",
    "    df = df.copy()\n",
    "    df['date'] = pd.to_datetime(df['date'])\n",
    "    df['doy'] = df['date'].dt.dayofyear\n",
    "    df = df[(df['doy'] >= start_doy) & (df['doy'] <= end_doy)]\n",
    "    # print(df)\n",
    "    aligned_dfs.append(df[['doy','ndvi_smooth']])\n"
   ]
  },
  {
   "cell_type": "code",
   "execution_count": null,
   "id": "b891a9ae-72ac-4458-8662-f0d82205e25a",
   "metadata": {},
   "outputs": [],
   "source": []
  },
  {
   "cell_type": "code",
   "execution_count": 10,
   "id": "ba8f0001-d647-497d-a217-e7df20354909",
   "metadata": {
    "tags": []
   },
   "outputs": [],
   "source": [
    "aligned_dfs = []\n",
    "for df in df_list:\n",
    "    df = df.copy()\n",
    "    df['date'] = pd.to_datetime(df['date'])\n",
    "    df['doy'] = df['date'].dt.dayofyear\n",
    "    # optional: keep only growing season\n",
    "    df = df[(df['doy'] >= 90) & (df['doy'] <= 300)]\n",
    "    \n",
    "    # Aggregate multiple observations per day\n",
    "    df_daily = df.groupby('doy')['ndvi_smooth'].mean().reset_index()\n",
    "    \n",
    "    year = df['date'].dt.year.iloc[0]\n",
    "    df_daily.rename(columns={'ndvi_smooth': year}, inplace=True)\n",
    "    aligned_dfs.append(df_daily)\n"
   ]
  },
  {
   "cell_type": "code",
   "execution_count": null,
   "id": "0ba7430d-8a93-4116-b25f-716df1893aaf",
   "metadata": {
    "tags": []
   },
   "outputs": [],
   "source": [
    "\n"
   ]
  },
  {
   "cell_type": "code",
   "execution_count": 11,
   "id": "baa5c905-e96b-4394-a13d-89cf37f27ebc",
   "metadata": {
    "tags": []
   },
   "outputs": [],
   "source": [
    "from functools import reduce\n",
    "\n",
    "df_all = reduce(lambda left, right: pd.merge(left, right, on='doy', how='outer'), aligned_dfs)\n",
    "df_all.set_index('doy', inplace=True)\n",
    "\n",
    "# Sort by DOY to get a proper seasonal curve\n",
    "df_all.sort_index(inplace=True)\n"
   ]
  },
  {
   "cell_type": "code",
   "execution_count": 12,
   "id": "1815cdec-0013-48e2-b056-c01a0b7405f1",
   "metadata": {
    "tags": []
   },
   "outputs": [
    {
     "data": {
      "text/html": [
       "<div>\n",
       "<style scoped>\n",
       "    .dataframe tbody tr th:only-of-type {\n",
       "        vertical-align: middle;\n",
       "    }\n",
       "\n",
       "    .dataframe tbody tr th {\n",
       "        vertical-align: top;\n",
       "    }\n",
       "\n",
       "    .dataframe thead th {\n",
       "        text-align: right;\n",
       "    }\n",
       "</style>\n",
       "<table border=\"1\" class=\"dataframe\">\n",
       "  <thead>\n",
       "    <tr style=\"text-align: right;\">\n",
       "      <th></th>\n",
       "      <th>2016</th>\n",
       "      <th>2023</th>\n",
       "      <th>2020</th>\n",
       "      <th>2017</th>\n",
       "      <th>2022</th>\n",
       "      <th>2018</th>\n",
       "      <th>2019</th>\n",
       "      <th>2021</th>\n",
       "      <th>2024</th>\n",
       "      <th>2015</th>\n",
       "    </tr>\n",
       "    <tr>\n",
       "      <th>doy</th>\n",
       "      <th></th>\n",
       "      <th></th>\n",
       "      <th></th>\n",
       "      <th></th>\n",
       "      <th></th>\n",
       "      <th></th>\n",
       "      <th></th>\n",
       "      <th></th>\n",
       "      <th></th>\n",
       "      <th></th>\n",
       "    </tr>\n",
       "  </thead>\n",
       "  <tbody>\n",
       "    <tr>\n",
       "      <th>90</th>\n",
       "      <td>NaN</td>\n",
       "      <td>NaN</td>\n",
       "      <td>NaN</td>\n",
       "      <td>NaN</td>\n",
       "      <td>NaN</td>\n",
       "      <td>NaN</td>\n",
       "      <td>0.219055</td>\n",
       "      <td>NaN</td>\n",
       "      <td>NaN</td>\n",
       "      <td>NaN</td>\n",
       "    </tr>\n",
       "    <tr>\n",
       "      <th>92</th>\n",
       "      <td>NaN</td>\n",
       "      <td>NaN</td>\n",
       "      <td>NaN</td>\n",
       "      <td>NaN</td>\n",
       "      <td>0.209308</td>\n",
       "      <td>NaN</td>\n",
       "      <td>NaN</td>\n",
       "      <td>NaN</td>\n",
       "      <td>0.188909</td>\n",
       "      <td>NaN</td>\n",
       "    </tr>\n",
       "    <tr>\n",
       "      <th>97</th>\n",
       "      <td>NaN</td>\n",
       "      <td>NaN</td>\n",
       "      <td>NaN</td>\n",
       "      <td>NaN</td>\n",
       "      <td>0.211306</td>\n",
       "      <td>NaN</td>\n",
       "      <td>NaN</td>\n",
       "      <td>NaN</td>\n",
       "      <td>NaN</td>\n",
       "      <td>NaN</td>\n",
       "    </tr>\n",
       "    <tr>\n",
       "      <th>98</th>\n",
       "      <td>NaN</td>\n",
       "      <td>NaN</td>\n",
       "      <td>0.271966</td>\n",
       "      <td>NaN</td>\n",
       "      <td>NaN</td>\n",
       "      <td>NaN</td>\n",
       "      <td>NaN</td>\n",
       "      <td>NaN</td>\n",
       "      <td>NaN</td>\n",
       "      <td>NaN</td>\n",
       "    </tr>\n",
       "    <tr>\n",
       "      <th>99</th>\n",
       "      <td>0.208989</td>\n",
       "      <td>NaN</td>\n",
       "      <td>NaN</td>\n",
       "      <td>NaN</td>\n",
       "      <td>0.210534</td>\n",
       "      <td>NaN</td>\n",
       "      <td>NaN</td>\n",
       "      <td>0.280457</td>\n",
       "      <td>0.191285</td>\n",
       "      <td>NaN</td>\n",
       "    </tr>\n",
       "    <tr>\n",
       "      <th>...</th>\n",
       "      <td>...</td>\n",
       "      <td>...</td>\n",
       "      <td>...</td>\n",
       "      <td>...</td>\n",
       "      <td>...</td>\n",
       "      <td>...</td>\n",
       "      <td>...</td>\n",
       "      <td>...</td>\n",
       "      <td>...</td>\n",
       "      <td>...</td>\n",
       "    </tr>\n",
       "    <tr>\n",
       "      <th>292</th>\n",
       "      <td>NaN</td>\n",
       "      <td>0.197228</td>\n",
       "      <td>NaN</td>\n",
       "      <td>NaN</td>\n",
       "      <td>0.235172</td>\n",
       "      <td>NaN</td>\n",
       "      <td>NaN</td>\n",
       "      <td>0.340205</td>\n",
       "      <td>NaN</td>\n",
       "      <td>NaN</td>\n",
       "    </tr>\n",
       "    <tr>\n",
       "      <th>294</th>\n",
       "      <td>NaN</td>\n",
       "      <td>NaN</td>\n",
       "      <td>NaN</td>\n",
       "      <td>NaN</td>\n",
       "      <td>NaN</td>\n",
       "      <td>NaN</td>\n",
       "      <td>NaN</td>\n",
       "      <td>NaN</td>\n",
       "      <td>0.161677</td>\n",
       "      <td>0.183923</td>\n",
       "    </tr>\n",
       "    <tr>\n",
       "      <th>295</th>\n",
       "      <td>NaN</td>\n",
       "      <td>NaN</td>\n",
       "      <td>0.223493</td>\n",
       "      <td>NaN</td>\n",
       "      <td>NaN</td>\n",
       "      <td>0.206664</td>\n",
       "      <td>0.259539</td>\n",
       "      <td>NaN</td>\n",
       "      <td>NaN</td>\n",
       "      <td>NaN</td>\n",
       "    </tr>\n",
       "    <tr>\n",
       "      <th>299</th>\n",
       "      <td>NaN</td>\n",
       "      <td>NaN</td>\n",
       "      <td>NaN</td>\n",
       "      <td>NaN</td>\n",
       "      <td>0.231014</td>\n",
       "      <td>NaN</td>\n",
       "      <td>NaN</td>\n",
       "      <td>NaN</td>\n",
       "      <td>0.158203</td>\n",
       "      <td>NaN</td>\n",
       "    </tr>\n",
       "    <tr>\n",
       "      <th>300</th>\n",
       "      <td>NaN</td>\n",
       "      <td>NaN</td>\n",
       "      <td>0.221083</td>\n",
       "      <td>NaN</td>\n",
       "      <td>NaN</td>\n",
       "      <td>NaN</td>\n",
       "      <td>0.239573</td>\n",
       "      <td>NaN</td>\n",
       "      <td>NaN</td>\n",
       "      <td>NaN</td>\n",
       "    </tr>\n",
       "  </tbody>\n",
       "</table>\n",
       "<p>154 rows × 10 columns</p>\n",
       "</div>"
      ],
      "text/plain": [
       "         2016      2023      2020  2017      2022      2018      2019  \\\n",
       "doy                                                                     \n",
       "90        NaN       NaN       NaN   NaN       NaN       NaN  0.219055   \n",
       "92        NaN       NaN       NaN   NaN  0.209308       NaN       NaN   \n",
       "97        NaN       NaN       NaN   NaN  0.211306       NaN       NaN   \n",
       "98        NaN       NaN  0.271966   NaN       NaN       NaN       NaN   \n",
       "99   0.208989       NaN       NaN   NaN  0.210534       NaN       NaN   \n",
       "..        ...       ...       ...   ...       ...       ...       ...   \n",
       "292       NaN  0.197228       NaN   NaN  0.235172       NaN       NaN   \n",
       "294       NaN       NaN       NaN   NaN       NaN       NaN       NaN   \n",
       "295       NaN       NaN  0.223493   NaN       NaN  0.206664  0.259539   \n",
       "299       NaN       NaN       NaN   NaN  0.231014       NaN       NaN   \n",
       "300       NaN       NaN  0.221083   NaN       NaN       NaN  0.239573   \n",
       "\n",
       "         2021      2024      2015  \n",
       "doy                                \n",
       "90        NaN       NaN       NaN  \n",
       "92        NaN  0.188909       NaN  \n",
       "97        NaN       NaN       NaN  \n",
       "98        NaN       NaN       NaN  \n",
       "99   0.280457  0.191285       NaN  \n",
       "..        ...       ...       ...  \n",
       "292  0.340205       NaN       NaN  \n",
       "294       NaN  0.161677  0.183923  \n",
       "295       NaN       NaN       NaN  \n",
       "299       NaN  0.158203       NaN  \n",
       "300       NaN       NaN       NaN  \n",
       "\n",
       "[154 rows x 10 columns]"
      ]
     },
     "execution_count": 12,
     "metadata": {},
     "output_type": "execute_result"
    }
   ],
   "source": [
    "df_all"
   ]
  },
  {
   "cell_type": "code",
   "execution_count": 13,
   "id": "f046c8f9-3ac8-4727-9ce1-dfe76854b785",
   "metadata": {
    "tags": []
   },
   "outputs": [],
   "source": [
    "mean_ndvi = df_all.mean(axis=1)\n",
    "std_ndvi = df_all.std(axis=1)\n",
    "n_years = df_all.shape[1]\n",
    "\n",
    "ci_upper = mean_ndvi + 1.96 * std_ndvi / np.sqrt(n_years)\n",
    "ci_lower = mean_ndvi - 1.96 * std_ndvi / np.sqrt(n_years)\n"
   ]
  },
  {
   "cell_type": "code",
   "execution_count": 14,
   "id": "9326307b-8b1d-4cb6-95ef-1f7150d35eb5",
   "metadata": {
    "tags": []
   },
   "outputs": [],
   "source": [
    "window = 7  # days\n",
    "mean_smooth = mean_ndvi.rolling(window, center=True, min_periods=1).mean()\n",
    "ci_upper_smooth = ci_upper.rolling(window, center=True, min_periods=1).mean()\n",
    "ci_lower_smooth = ci_lower.rolling(window, center=True, min_periods=1).mean()\n"
   ]
  },
  {
   "cell_type": "code",
   "execution_count": 15,
   "id": "edb2f4b5-ac2b-4a3b-b4dc-eb23887f8482",
   "metadata": {
    "tags": []
   },
   "outputs": [],
   "source": [
    "doy_grid = np.arange(1, 366)  # 1 to 365\n",
    "\n",
    "\n",
    "year_arrays = []\n",
    "\n",
    "for df in df_list:\n",
    "    df = df.copy()\n",
    "    df['doy'] = df['date'].dt.dayofyear\n",
    "    # Drop duplicate DOYs to avoid reindexing errors\n",
    "    df = df.drop_duplicates(subset='doy')\n",
    "    \n",
    "    # Interpolate onto full grid\n",
    "    s = pd.Series(df['ndvi_smooth'].values, index=df['doy'])\n",
    "    s_interp = s.reindex(doy_grid).interpolate(method='linear', limit_direction='both')\n",
    "    year_arrays.append(s_interp.values)"
   ]
  },
  {
   "cell_type": "code",
   "execution_count": 16,
   "id": "ef7e6e65-01a0-493e-b009-43e040055eea",
   "metadata": {
    "tags": []
   },
   "outputs": [],
   "source": [
    "year_matrix = np.vstack(year_arrays)  # shape: (n_years, 365)\n",
    "\n",
    "# Compute mean and standard deviation across years\n",
    "mean_ndvi = np.nanmean(year_matrix, axis=0)\n",
    "std_ndvi = np.nanstd(year_matrix, axis=0)\n",
    "\n",
    "# Smooth with rolling window\n",
    "window = 15  # roughly 2 weeks\n",
    "mean_smooth = pd.Series(mean_ndvi).rolling(window, center=True, min_periods=1).mean().values\n",
    "std_smooth = pd.Series(std_ndvi).rolling(window, center=True, min_periods=1).mean().values\n",
    "\n",
    "# 95% confidence interval\n",
    "ci_upper = mean_smooth + 1.96 * std_smooth\n",
    "ci_lower = mean_smooth - 1.96 * std_smooth"
   ]
  },
  {
   "cell_type": "code",
   "execution_count": 17,
   "id": "ca65bf41-07bd-46fd-a902-3c224ff8214e",
   "metadata": {
    "tags": []
   },
   "outputs": [
    {
     "data": {
      "text/plain": [
       "Text(0.5, 1.0, 'Bayes Fields NDVI Seasonal Cycle (2016–2024)')"
      ]
     },
     "execution_count": 17,
     "metadata": {},
     "output_type": "execute_result"
    },
    {
     "data": {
      "image/png": "[encoded data removed]",
      "text/plain": [
       "<Figure size 720x576 with 1 Axes>"
      ]
     },
     "metadata": {
      "needs_background": "light"
     },
     "output_type": "display_data"
    }
   ],
   "source": [
    "plt.figure(figsize = (10,8))\n",
    "\n",
    "for df in df_list:\n",
    "    # convert to datetime if not already\n",
    "    df[\"date\"] = pd.to_datetime(df[\"date\"])\n",
    "    # Assuming df['ndvi'] is sorted by date\n",
    "    df['ndvi_smooth'] = df['ndvi'].rolling(window=5, center=True, min_periods=1).mean()\n",
    "\n",
    "#     plt.plot(df['date'], df['ndvi'], alpha=0.2)\n",
    "#     plt.plot(df['date'], df['ndvi_smooth'], color='green')\n",
    "\n",
    "    # use day of year\n",
    "    x = df[\"date\"].dt.dayofyear\n",
    "    # year = str(df['date'][-1].year)\n",
    "    year = '2024'\n",
    "\n",
    "    plt.plot(x, df[\"ndvi_smooth\"], \n",
    "             label = year,\n",
    "             color='#1f77b4',\n",
    "             alpha=0.5\n",
    "            )\n",
    "\n",
    "plt.fill_between(doy_grid, ci_lower, ci_upper, color='orange', alpha=0.2, label='95% CI')\n",
    "plt.plot(doy_grid, mean_smooth, color='orange', label='Mean NDVI (smoothed)')\n",
    "plt.xlabel('Day of Year')\n",
    "plt.ylabel('NDVI')\n",
    "plt.title('Vineyard NDVI (Growing Season)')\n",
    "\n",
    "plt.xlabel(\"Day of Year\", fontsize = 16)\n",
    "plt.ylabel(\"Mean NDVI\", fontsize = 16)\n",
    "plt.xticks(fontsize = 14)\n",
    "plt.yticks(fontsize = 14)\n",
    "plt.title(\"Bayes Fields NDVI Seasonal Cycle (2016–2024)\", fontsize = 18)"
   ]
  },
  {
   "cell_type": "code",
   "execution_count": 18,
   "id": "eac1d961-5fa0-4c0f-bbd6-bab13ee913cc",
   "metadata": {
    "tags": []
   },
   "outputs": [],
   "source": [
    "df_ndvi = pd.DataFrame({\n",
    "    'doy': doy_grid,\n",
    "    'mean_ndvi': mean_smooth,\n",
    "    'ci_lower': ci_lower,\n",
    "    'ci_upper': ci_upper\n",
    "})"
   ]
  },
  {
   "cell_type": "code",
   "execution_count": 19,
   "id": "afde171e-bef7-4c15-adfc-e83cf5f6cc17",
   "metadata": {
    "tags": []
   },
   "outputs": [],
   "source": [
    "df_ndvi.to_pickle('data/ndvi/plots/ndvi_df.pkl')"
   ]
  },
  {
   "cell_type": "code",
   "execution_count": 20,
   "id": "a0d422dd-0e69-45ef-988d-8d64b7cd4a44",
   "metadata": {
    "tags": []
   },
   "outputs": [
    {
     "data": {
      "text/html": [
       "<div>\n",
       "<style scoped>\n",
       "    .dataframe tbody tr th:only-of-type {\n",
       "        vertical-align: middle;\n",
       "    }\n",
       "\n",
       "    .dataframe tbody tr th {\n",
       "        vertical-align: top;\n",
       "    }\n",
       "\n",
       "    .dataframe thead th {\n",
       "        text-align: right;\n",
       "    }\n",
       "</style>\n",
       "<table border=\"1\" class=\"dataframe\">\n",
       "  <thead>\n",
       "    <tr style=\"text-align: right;\">\n",
       "      <th></th>\n",
       "      <th>doy</th>\n",
       "      <th>mean_ndvi</th>\n",
       "      <th>ci_lower</th>\n",
       "      <th>ci_upper</th>\n",
       "    </tr>\n",
       "  </thead>\n",
       "  <tbody>\n",
       "    <tr>\n",
       "      <th>0</th>\n",
       "      <td>1</td>\n",
       "      <td>0.202510</td>\n",
       "      <td>0.135157</td>\n",
       "      <td>0.269863</td>\n",
       "    </tr>\n",
       "    <tr>\n",
       "      <th>1</th>\n",
       "      <td>2</td>\n",
       "      <td>0.202510</td>\n",
       "      <td>0.135157</td>\n",
       "      <td>0.269863</td>\n",
       "    </tr>\n",
       "    <tr>\n",
       "      <th>2</th>\n",
       "      <td>3</td>\n",
       "      <td>0.202513</td>\n",
       "      <td>0.135162</td>\n",
       "      <td>0.269863</td>\n",
       "    </tr>\n",
       "    <tr>\n",
       "      <th>3</th>\n",
       "      <td>4</td>\n",
       "      <td>0.202523</td>\n",
       "      <td>0.135199</td>\n",
       "      <td>0.269848</td>\n",
       "    </tr>\n",
       "    <tr>\n",
       "      <th>4</th>\n",
       "      <td>5</td>\n",
       "      <td>0.202540</td>\n",
       "      <td>0.135258</td>\n",
       "      <td>0.269823</td>\n",
       "    </tr>\n",
       "    <tr>\n",
       "      <th>...</th>\n",
       "      <td>...</td>\n",
       "      <td>...</td>\n",
       "      <td>...</td>\n",
       "      <td>...</td>\n",
       "    </tr>\n",
       "    <tr>\n",
       "      <th>360</th>\n",
       "      <td>361</td>\n",
       "      <td>0.200963</td>\n",
       "      <td>0.081179</td>\n",
       "      <td>0.320746</td>\n",
       "    </tr>\n",
       "    <tr>\n",
       "      <th>361</th>\n",
       "      <td>362</td>\n",
       "      <td>0.200917</td>\n",
       "      <td>0.081050</td>\n",
       "      <td>0.320785</td>\n",
       "    </tr>\n",
       "    <tr>\n",
       "      <th>362</th>\n",
       "      <td>363</td>\n",
       "      <td>0.200879</td>\n",
       "      <td>0.080940</td>\n",
       "      <td>0.320818</td>\n",
       "    </tr>\n",
       "    <tr>\n",
       "      <th>363</th>\n",
       "      <td>364</td>\n",
       "      <td>0.200850</td>\n",
       "      <td>0.080857</td>\n",
       "      <td>0.320844</td>\n",
       "    </tr>\n",
       "    <tr>\n",
       "      <th>364</th>\n",
       "      <td>365</td>\n",
       "      <td>0.200835</td>\n",
       "      <td>0.080810</td>\n",
       "      <td>0.320859</td>\n",
       "    </tr>\n",
       "  </tbody>\n",
       "</table>\n",
       "<p>365 rows × 4 columns</p>\n",
       "</div>"
      ],
      "text/plain": [
       "     doy  mean_ndvi  ci_lower  ci_upper\n",
       "0      1   0.202510  0.135157  0.269863\n",
       "1      2   0.202510  0.135157  0.269863\n",
       "2      3   0.202513  0.135162  0.269863\n",
       "3      4   0.202523  0.135199  0.269848\n",
       "4      5   0.202540  0.135258  0.269823\n",
       "..   ...        ...       ...       ...\n",
       "360  361   0.200963  0.081179  0.320746\n",
       "361  362   0.200917  0.081050  0.320785\n",
       "362  363   0.200879  0.080940  0.320818\n",
       "363  364   0.200850  0.080857  0.320844\n",
       "364  365   0.200835  0.080810  0.320859\n",
       "\n",
       "[365 rows x 4 columns]"
      ]
     },
     "execution_count": 20,
     "metadata": {},
     "output_type": "execute_result"
    }
   ],
   "source": [
    "df_ndvi"
   ]
  },
  {
   "cell_type": "code",
   "execution_count": null,
   "id": "b73d3fab-6ebd-4960-aaf9-279e07e3a20c",
   "metadata": {},
   "outputs": [],
   "source": []
  }
 ],
 "metadata": {
  "kernelspec": {
   "display_name": "Python 3",
   "language": "python",
   "name": "python3"
  },
  "language_info": {
   "codemirror_mode": {
    "name": "ipython",
    "version": 3
   },
   "file_extension": ".py",
   "mimetype": "text/x-python",
   "name": "python",
   "nbconvert_exporter": "python",
   "pygments_lexer": "ipython3",
   "version": "3.7.6"
  }
 },
 "nbformat": 4,
 "nbformat_minor": 5
}
